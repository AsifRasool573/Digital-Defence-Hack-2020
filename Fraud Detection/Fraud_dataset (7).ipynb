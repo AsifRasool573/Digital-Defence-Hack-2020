{
  "nbformat": 4,
  "nbformat_minor": 0,
  "metadata": {
    "colab": {
      "name": "Fraud_dataset.ipynb",
      "provenance": [],
      "collapsed_sections": []
    },
    "kernelspec": {
      "name": "python3",
      "display_name": "Python 3"
    }
  },
  "cells": [
    {
      "cell_type": "markdown",
      "metadata": {
        "id": "fC22qEhWNIDD"
      },
      "source": [
        "\n",
        "\n",
        "```\n",
        "# This is formatted as code\n",
        "```\n",
        "\n",
        "# Anomaly Defence Hackathon Interactive Dashboard"
      ]
    },
    {
      "cell_type": "code",
      "metadata": {
        "id": "oLAXyVmEUBdD"
      },
      "source": [
        "import pandas as pd\n",
        "import io"
      ],
      "execution_count": null,
      "outputs": []
    },
    {
      "cell_type": "code",
      "metadata": {
        "colab": {
          "base_uri": "https://localhost:8080/"
        },
        "id": "FLcaNLoUYVS0",
        "outputId": "84b3e83f-e1c6-47c5-fbef-6c1a4b102a09"
      },
      "source": [
        "from google.colab import drive\n",
        "drive.mount('/gdrive')\n",
        "%cd /gdrive"
      ],
      "execution_count": null,
      "outputs": [
        {
          "output_type": "stream",
          "text": [
            "Drive already mounted at /gdrive; to attempt to forcibly remount, call drive.mount(\"/gdrive\", force_remount=True).\n",
            "/gdrive\n"
          ],
          "name": "stdout"
        }
      ]
    },
    {
      "cell_type": "code",
      "metadata": {
        "colab": {
          "base_uri": "https://localhost:8080/",
          "height": 309
        },
        "id": "TU7V_u4uUQ4y",
        "outputId": "71a5ca67-9a97-4fc6-f53d-e80ea20734f7"
      },
      "source": [
        "df = pd.read_csv('/content/faccount.csv')\n",
        "df.head()"
      ],
      "execution_count": null,
      "outputs": [
        {
          "output_type": "execute_result",
          "data": {
            "text/html": [
              "<div>\n",
              "<style scoped>\n",
              "    .dataframe tbody tr th:only-of-type {\n",
              "        vertical-align: middle;\n",
              "    }\n",
              "\n",
              "    .dataframe tbody tr th {\n",
              "        vertical-align: top;\n",
              "    }\n",
              "\n",
              "    .dataframe thead th {\n",
              "        text-align: right;\n",
              "    }\n",
              "</style>\n",
              "<table border=\"1\" class=\"dataframe\">\n",
              "  <thead>\n",
              "    <tr style=\"text-align: right;\">\n",
              "      <th></th>\n",
              "      <th>ACCTID</th>\n",
              "      <th>ACCTTYPE</th>\n",
              "      <th>ACCTNAME</th>\n",
              "      <th>FIRSTNAME</th>\n",
              "      <th>SURNAME</th>\n",
              "      <th>DOB</th>\n",
              "      <th>ACCTCREATED</th>\n",
              "      <th>ACCTRISK</th>\n",
              "      <th>ADDRESS</th>\n",
              "      <th>ADDRESS_LAT</th>\n",
              "      <th>ADDRESS_LON</th>\n",
              "      <th>CATEGORY</th>\n",
              "    </tr>\n",
              "  </thead>\n",
              "  <tbody>\n",
              "    <tr>\n",
              "      <th>0</th>\n",
              "      <td>800039</td>\n",
              "      <td>BUSINESS</td>\n",
              "      <td>Young Supermarket</td>\n",
              "      <td>Kevin</td>\n",
              "      <td>Young</td>\n",
              "      <td>1982-02-23T00:00:00</td>\n",
              "      <td>2018-09-20T00:00:00</td>\n",
              "      <td>MEDIUM</td>\n",
              "      <td>BRISBANE</td>\n",
              "      <td>-27.512179</td>\n",
              "      <td>153.073105</td>\n",
              "      <td>Supermarket</td>\n",
              "    </tr>\n",
              "    <tr>\n",
              "      <th>1</th>\n",
              "      <td>800040</td>\n",
              "      <td>BUSINESS</td>\n",
              "      <td>Williams Grocery</td>\n",
              "      <td>Lindsay</td>\n",
              "      <td>Williams</td>\n",
              "      <td>1959-02-20T00:00:00</td>\n",
              "      <td>2018-02-24T00:00:00</td>\n",
              "      <td>MEDIUM</td>\n",
              "      <td>BRISBANE</td>\n",
              "      <td>-27.504303</td>\n",
              "      <td>153.073470</td>\n",
              "      <td>Grocery</td>\n",
              "    </tr>\n",
              "    <tr>\n",
              "      <th>2</th>\n",
              "      <td>800041</td>\n",
              "      <td>CREDIT</td>\n",
              "      <td>Myers Supermarket</td>\n",
              "      <td>Lisa</td>\n",
              "      <td>Myers</td>\n",
              "      <td>1982-09-04T00:00:00</td>\n",
              "      <td>2018-01-11T00:00:00</td>\n",
              "      <td>HIGH</td>\n",
              "      <td>BRISBANE</td>\n",
              "      <td>-27.484970</td>\n",
              "      <td>153.097588</td>\n",
              "      <td>Supermarket</td>\n",
              "    </tr>\n",
              "    <tr>\n",
              "      <th>3</th>\n",
              "      <td>800042</td>\n",
              "      <td>BUSINESS</td>\n",
              "      <td>Martinez Supermarket</td>\n",
              "      <td>Brittany</td>\n",
              "      <td>Martinez</td>\n",
              "      <td>1976-10-11T00:00:00</td>\n",
              "      <td>2018-12-04T00:00:00</td>\n",
              "      <td>MEDIUM</td>\n",
              "      <td>BRISBANE</td>\n",
              "      <td>-27.402357</td>\n",
              "      <td>153.056983</td>\n",
              "      <td>Supermarket</td>\n",
              "    </tr>\n",
              "    <tr>\n",
              "      <th>4</th>\n",
              "      <td>800043</td>\n",
              "      <td>CREDIT</td>\n",
              "      <td>Taylor Grocery</td>\n",
              "      <td>David</td>\n",
              "      <td>Taylor</td>\n",
              "      <td>1978-01-23T00:00:00</td>\n",
              "      <td>2019-07-15T00:00:00</td>\n",
              "      <td>MEDIUM</td>\n",
              "      <td>BRISBANE</td>\n",
              "      <td>-27.473628</td>\n",
              "      <td>152.955089</td>\n",
              "      <td>Grocery</td>\n",
              "    </tr>\n",
              "  </tbody>\n",
              "</table>\n",
              "</div>"
            ],
            "text/plain": [
              "   ACCTID  ACCTTYPE  ... ADDRESS_LON     CATEGORY\n",
              "0  800039  BUSINESS  ...  153.073105  Supermarket\n",
              "1  800040  BUSINESS  ...  153.073470      Grocery\n",
              "2  800041    CREDIT  ...  153.097588  Supermarket\n",
              "3  800042  BUSINESS  ...  153.056983  Supermarket\n",
              "4  800043    CREDIT  ...  152.955089      Grocery\n",
              "\n",
              "[5 rows x 12 columns]"
            ]
          },
          "metadata": {
            "tags": []
          },
          "execution_count": 11
        }
      ]
    },
    {
      "cell_type": "code",
      "metadata": {
        "colab": {
          "base_uri": "https://localhost:8080/",
          "height": 284
        },
        "id": "2GHBRaTkZFhh",
        "outputId": "f08fcf61-679d-46bb-e872-fd05eae129a3"
      },
      "source": [
        "df.describe()"
      ],
      "execution_count": null,
      "outputs": [
        {
          "output_type": "execute_result",
          "data": {
            "text/html": [
              "<div>\n",
              "<style scoped>\n",
              "    .dataframe tbody tr th:only-of-type {\n",
              "        vertical-align: middle;\n",
              "    }\n",
              "\n",
              "    .dataframe tbody tr th {\n",
              "        vertical-align: top;\n",
              "    }\n",
              "\n",
              "    .dataframe thead th {\n",
              "        text-align: right;\n",
              "    }\n",
              "</style>\n",
              "<table border=\"1\" class=\"dataframe\">\n",
              "  <thead>\n",
              "    <tr style=\"text-align: right;\">\n",
              "      <th></th>\n",
              "      <th>ACCTID</th>\n",
              "      <th>ADDRESS_LAT</th>\n",
              "      <th>ADDRESS_LON</th>\n",
              "    </tr>\n",
              "  </thead>\n",
              "  <tbody>\n",
              "    <tr>\n",
              "      <th>count</th>\n",
              "      <td>2000.000000</td>\n",
              "      <td>2000.000000</td>\n",
              "      <td>2000.000000</td>\n",
              "    </tr>\n",
              "    <tr>\n",
              "      <th>mean</th>\n",
              "      <td>590579.500000</td>\n",
              "      <td>-27.468170</td>\n",
              "      <td>153.027781</td>\n",
              "    </tr>\n",
              "    <tr>\n",
              "      <th>std</th>\n",
              "      <td>137328.753459</td>\n",
              "      <td>0.043052</td>\n",
              "      <td>0.043112</td>\n",
              "    </tr>\n",
              "    <tr>\n",
              "      <th>min</th>\n",
              "      <td>500000.000000</td>\n",
              "      <td>-27.543230</td>\n",
              "      <td>152.950947</td>\n",
              "    </tr>\n",
              "    <tr>\n",
              "      <th>25%</th>\n",
              "      <td>500499.750000</td>\n",
              "      <td>-27.505035</td>\n",
              "      <td>152.990512</td>\n",
              "    </tr>\n",
              "    <tr>\n",
              "      <th>50%</th>\n",
              "      <td>500999.500000</td>\n",
              "      <td>-27.468745</td>\n",
              "      <td>153.027733</td>\n",
              "    </tr>\n",
              "    <tr>\n",
              "      <th>75%</th>\n",
              "      <td>800099.250000</td>\n",
              "      <td>-27.431166</td>\n",
              "      <td>153.064597</td>\n",
              "    </tr>\n",
              "    <tr>\n",
              "      <th>max</th>\n",
              "      <td>800599.000000</td>\n",
              "      <td>-27.392682</td>\n",
              "      <td>153.107416</td>\n",
              "    </tr>\n",
              "  </tbody>\n",
              "</table>\n",
              "</div>"
            ],
            "text/plain": [
              "              ACCTID  ADDRESS_LAT  ADDRESS_LON\n",
              "count    2000.000000  2000.000000  2000.000000\n",
              "mean   590579.500000   -27.468170   153.027781\n",
              "std    137328.753459     0.043052     0.043112\n",
              "min    500000.000000   -27.543230   152.950947\n",
              "25%    500499.750000   -27.505035   152.990512\n",
              "50%    500999.500000   -27.468745   153.027733\n",
              "75%    800099.250000   -27.431166   153.064597\n",
              "max    800599.000000   -27.392682   153.107416"
            ]
          },
          "metadata": {
            "tags": []
          },
          "execution_count": 7
        }
      ]
    },
    {
      "cell_type": "code",
      "metadata": {
        "id": "OJpuEITXZ4dH"
      },
      "source": [
        "df2 = pd.read_csv('/gdrive/MyDrive/Colab Notebooks/ftxn2.csv')"
      ],
      "execution_count": null,
      "outputs": []
    },
    {
      "cell_type": "code",
      "metadata": {
        "colab": {
          "base_uri": "https://localhost:8080/",
          "height": 284
        },
        "id": "WNHlGd9FZ8k0",
        "outputId": "a206fb76-f697-4ef4-f01c-2ab7f0a58723"
      },
      "source": [
        "df2.describe()"
      ],
      "execution_count": null,
      "outputs": [
        {
          "output_type": "execute_result",
          "data": {
            "text/html": [
              "<div>\n",
              "<style scoped>\n",
              "    .dataframe tbody tr th:only-of-type {\n",
              "        vertical-align: middle;\n",
              "    }\n",
              "\n",
              "    .dataframe tbody tr th {\n",
              "        vertical-align: top;\n",
              "    }\n",
              "\n",
              "    .dataframe thead th {\n",
              "        text-align: right;\n",
              "    }\n",
              "</style>\n",
              "<table border=\"1\" class=\"dataframe\">\n",
              "  <thead>\n",
              "    <tr style=\"text-align: right;\">\n",
              "      <th></th>\n",
              "      <th>TXN_ID</th>\n",
              "      <th>AMOUNT</th>\n",
              "      <th>FROMACCTID</th>\n",
              "      <th>TOACCTID</th>\n",
              "    </tr>\n",
              "  </thead>\n",
              "  <tbody>\n",
              "    <tr>\n",
              "      <th>count</th>\n",
              "      <td>1.048575e+06</td>\n",
              "      <td>1.048575e+06</td>\n",
              "      <td>1.048575e+06</td>\n",
              "      <td>1.048575e+06</td>\n",
              "    </tr>\n",
              "    <tr>\n",
              "      <th>mean</th>\n",
              "      <td>9.505792e+11</td>\n",
              "      <td>1.867442e+03</td>\n",
              "      <td>5.006450e+05</td>\n",
              "      <td>7.003704e+05</td>\n",
              "    </tr>\n",
              "    <tr>\n",
              "      <th>std</th>\n",
              "      <td>6.505364e+10</td>\n",
              "      <td>3.112142e+03</td>\n",
              "      <td>2.149876e+03</td>\n",
              "      <td>1.411859e+05</td>\n",
              "    </tr>\n",
              "    <tr>\n",
              "      <th>min</th>\n",
              "      <td>9.500000e+11</td>\n",
              "      <td>2.500000e+01</td>\n",
              "      <td>5.000000e+05</td>\n",
              "      <td>8.000000e+02</td>\n",
              "    </tr>\n",
              "    <tr>\n",
              "      <th>25%</th>\n",
              "      <td>9.500270e+11</td>\n",
              "      <td>6.600000e+01</td>\n",
              "      <td>5.002740e+05</td>\n",
              "      <td>5.010490e+05</td>\n",
              "    </tr>\n",
              "    <tr>\n",
              "      <th>50%</th>\n",
              "      <td>9.500600e+11</td>\n",
              "      <td>2.800000e+02</td>\n",
              "      <td>5.006040e+05</td>\n",
              "      <td>8.001490e+05</td>\n",
              "    </tr>\n",
              "    <tr>\n",
              "      <th>75%</th>\n",
              "      <td>9.500930e+11</td>\n",
              "      <td>2.870000e+03</td>\n",
              "      <td>5.009300e+05</td>\n",
              "      <td>8.002240e+05</td>\n",
              "    </tr>\n",
              "    <tr>\n",
              "      <th>max</th>\n",
              "      <td>9.150080e+12</td>\n",
              "      <td>2.000200e+05</td>\n",
              "      <td>8.004350e+05</td>\n",
              "      <td>8.004350e+05</td>\n",
              "    </tr>\n",
              "  </tbody>\n",
              "</table>\n",
              "</div>"
            ],
            "text/plain": [
              "             TXN_ID        AMOUNT    FROMACCTID      TOACCTID\n",
              "count  1.048575e+06  1.048575e+06  1.048575e+06  1.048575e+06\n",
              "mean   9.505792e+11  1.867442e+03  5.006450e+05  7.003704e+05\n",
              "std    6.505364e+10  3.112142e+03  2.149876e+03  1.411859e+05\n",
              "min    9.500000e+11  2.500000e+01  5.000000e+05  8.000000e+02\n",
              "25%    9.500270e+11  6.600000e+01  5.002740e+05  5.010490e+05\n",
              "50%    9.500600e+11  2.800000e+02  5.006040e+05  8.001490e+05\n",
              "75%    9.500930e+11  2.870000e+03  5.009300e+05  8.002240e+05\n",
              "max    9.150080e+12  2.000200e+05  8.004350e+05  8.004350e+05"
            ]
          },
          "metadata": {
            "tags": []
          },
          "execution_count": 9
        }
      ]
    },
    {
      "cell_type": "code",
      "metadata": {
        "colab": {
          "base_uri": "https://localhost:8080/",
          "height": 195
        },
        "id": "q6JZyQVfaCrh",
        "outputId": "f1b07aad-416d-42cc-da17-e44c4dec54db"
      },
      "source": [
        "df2.head()"
      ],
      "execution_count": null,
      "outputs": [
        {
          "output_type": "execute_result",
          "data": {
            "text/html": [
              "<div>\n",
              "<style scoped>\n",
              "    .dataframe tbody tr th:only-of-type {\n",
              "        vertical-align: middle;\n",
              "    }\n",
              "\n",
              "    .dataframe tbody tr th {\n",
              "        vertical-align: top;\n",
              "    }\n",
              "\n",
              "    .dataframe thead th {\n",
              "        text-align: right;\n",
              "    }\n",
              "</style>\n",
              "<table border=\"1\" class=\"dataframe\">\n",
              "  <thead>\n",
              "    <tr style=\"text-align: right;\">\n",
              "      <th></th>\n",
              "      <th>TXN_ID</th>\n",
              "      <th>TXTYPE</th>\n",
              "      <th>AMOUNT</th>\n",
              "      <th>FROMACCTID</th>\n",
              "      <th>TOACCTID</th>\n",
              "      <th>TXDATE</th>\n",
              "      <th>REFERENCE</th>\n",
              "      <th>ISFRAUD</th>\n",
              "      <th>ISFLAGGED</th>\n",
              "    </tr>\n",
              "  </thead>\n",
              "  <tbody>\n",
              "    <tr>\n",
              "      <th>0</th>\n",
              "      <td>9.500000e+11</td>\n",
              "      <td>TRANSFER</td>\n",
              "      <td>7479</td>\n",
              "      <td>500000</td>\n",
              "      <td>500417</td>\n",
              "      <td>2019-12-12T13:00:00</td>\n",
              "      <td>Subscription Costs</td>\n",
              "      <td>N</td>\n",
              "      <td>Y</td>\n",
              "    </tr>\n",
              "    <tr>\n",
              "      <th>1</th>\n",
              "      <td>9.500000e+11</td>\n",
              "      <td>PAYMENT</td>\n",
              "      <td>465</td>\n",
              "      <td>500000</td>\n",
              "      <td>800242</td>\n",
              "      <td>2019-12-12T17:00:00</td>\n",
              "      <td>Meal with Jose</td>\n",
              "      <td>N</td>\n",
              "      <td>Y</td>\n",
              "    </tr>\n",
              "    <tr>\n",
              "      <th>2</th>\n",
              "      <td>9.500000e+11</td>\n",
              "      <td>PAYMENT</td>\n",
              "      <td>69</td>\n",
              "      <td>500000</td>\n",
              "      <td>800</td>\n",
              "      <td>2019-12-13T08:00:00</td>\n",
              "      <td>Breakfast with Whitney</td>\n",
              "      <td>N</td>\n",
              "      <td>Y</td>\n",
              "    </tr>\n",
              "    <tr>\n",
              "      <th>3</th>\n",
              "      <td>9.500000e+11</td>\n",
              "      <td>TRANSFER</td>\n",
              "      <td>9763</td>\n",
              "      <td>500000</td>\n",
              "      <td>500042</td>\n",
              "      <td>2019-12-13T13:00:00</td>\n",
              "      <td>Settling Deal</td>\n",
              "      <td>N</td>\n",
              "      <td>Y</td>\n",
              "    </tr>\n",
              "    <tr>\n",
              "      <th>4</th>\n",
              "      <td>9.500000e+11</td>\n",
              "      <td>PAYMENT</td>\n",
              "      <td>443</td>\n",
              "      <td>500000</td>\n",
              "      <td>800271</td>\n",
              "      <td>2019-12-13T17:00:00</td>\n",
              "      <td>Dinner with Samuel</td>\n",
              "      <td>N</td>\n",
              "      <td>Y</td>\n",
              "    </tr>\n",
              "  </tbody>\n",
              "</table>\n",
              "</div>"
            ],
            "text/plain": [
              "         TXN_ID    TXTYPE  AMOUNT  ...               REFERENCE  ISFRAUD ISFLAGGED\n",
              "0  9.500000e+11  TRANSFER    7479  ...      Subscription Costs        N         Y\n",
              "1  9.500000e+11   PAYMENT     465  ...          Meal with Jose        N         Y\n",
              "2  9.500000e+11   PAYMENT      69  ...  Breakfast with Whitney        N         Y\n",
              "3  9.500000e+11  TRANSFER    9763  ...           Settling Deal        N         Y\n",
              "4  9.500000e+11   PAYMENT     443  ...      Dinner with Samuel        N         Y\n",
              "\n",
              "[5 rows x 9 columns]"
            ]
          },
          "metadata": {
            "tags": []
          },
          "execution_count": 10
        }
      ]
    },
    {
      "cell_type": "code",
      "metadata": {
        "colab": {
          "base_uri": "https://localhost:8080/"
        },
        "id": "B-pYa22xhm9S",
        "outputId": "a15184da-a75e-413b-d558-23552c99e132"
      },
      "source": [
        "df3 = pd.read_csv('/gdrive/MyDrive/Colab Notebooks/ftxn2.csv')\n",
        "df3 = df3[df3['ISFRAUD'] == 'Y']\n",
        "print(df3)"
      ],
      "execution_count": null,
      "outputs": [
        {
          "output_type": "stream",
          "text": [
            "               TXN_ID    TXTYPE  AMOUNT  ...           REFERENCE  ISFRAUD ISFLAGGED\n",
            "708358   9.150080e+12  TRANSFER  200002  ...     Payment for Job        Y         Y\n",
            "708462   9.150080e+12  TRANSFER  200001  ...        Holiday Cost        Y         Y\n",
            "1048535  9.150080e+12  TRANSFER  200013  ...          Instalment        Y         Y\n",
            "1048536  9.150080e+12  TRANSFER  200005  ...          Instalment        Y         Y\n",
            "1048549  9.150080e+12  TRANSFER  200006  ...       Settling Deal        Y         Y\n",
            "1048550  9.150080e+12  TRANSFER  200012  ...       Settling Deal        Y         Y\n",
            "1048551  9.150080e+12  TRANSFER  200012  ...          Instalment        Y         Y\n",
            "1048552  9.150080e+12  TRANSFER  200005  ...     Payment for Job        Y         Y\n",
            "1048553  9.150080e+12  TRANSFER  200004  ...          Gift Costs        Y         Y\n",
            "1048554  9.150080e+12  TRANSFER  200017  ...        Holiday Cost        Y         Y\n",
            "1048555  9.150080e+12  TRANSFER  200008  ...      Paid for FixUp        Y         Y\n",
            "1048556  9.150080e+12  TRANSFER  200004  ...          Gift Costs        Y         Y\n",
            "1048557  9.150080e+12  TRANSFER  200008  ...     Payment for Job        Y         Y\n",
            "1048558  9.150080e+12  TRANSFER  200015  ...        Holiday Cost        Y         Y\n",
            "1048559  9.150080e+12  TRANSFER  200011  ...         Water Costs        Y         Y\n",
            "1048560  9.150080e+12  TRANSFER  200001  ...  Subscription Costs        Y         Y\n",
            "1048561  9.150080e+12  TRANSFER  200014  ...       Settling Deal        Y         Y\n",
            "1048562  9.150080e+12  TRANSFER  200011  ...      Paid for FixUp        Y         Y\n",
            "1048563  9.150080e+12  TRANSFER  200003  ...          Gift Costs        Y         Y\n",
            "1048564  9.150080e+12  TRANSFER  200015  ...         Water Costs        Y         Y\n",
            "1048565  9.150080e+12  TRANSFER  200004  ...  Subscription Costs        Y         Y\n",
            "1048566  9.150080e+12  TRANSFER  200006  ...          Gift Costs        Y         Y\n",
            "1048567  9.150080e+12  TRANSFER  200018  ...        Holiday Cost        Y         Y\n",
            "1048568  9.150080e+12  TRANSFER  200018  ...         Water Costs        Y         Y\n",
            "1048569  9.150080e+12  TRANSFER  200009  ...       Settling Deal        Y         Y\n",
            "1048570  9.150080e+12  TRANSFER  200020  ...  Subscription Costs        Y         Y\n",
            "1048571  9.150080e+12  TRANSFER  200003  ...        Holiday Cost        Y         Y\n",
            "1048572  9.150080e+12  TRANSFER  200019  ...        Holiday Cost        Y         Y\n",
            "1048573  9.150080e+12  TRANSFER  200012  ...        Holiday Cost        Y         Y\n",
            "1048574  9.150080e+12  TRANSFER  200018  ...        Holiday Cost        Y         Y\n",
            "\n",
            "[30 rows x 9 columns]\n"
          ],
          "name": "stdout"
        }
      ]
    },
    {
      "cell_type": "code",
      "metadata": {
        "colab": {
          "base_uri": "https://localhost:8080/",
          "height": 574
        },
        "id": "Q2LPVnYWlzFC",
        "outputId": "f7c66f5a-c2d6-49b8-fd39-911406832f5a"
      },
      "source": [
        "import matplotlib.pyplot as plt\n",
        "import numpy as np\n",
        "plt.rcParams['figure.figsize'] = (20,10)\n",
        "df3 = pd.DataFrame(np.random.rand(30, 2), columns=['AMOUNT', 'FROMACCTID'])\n",
        "df3.plot.barh(stacked=True);"
      ],
      "execution_count": null,
      "outputs": [
        {
          "output_type": "display_data",
          "data": {
            "image/png": "[encoded data removed]",
            "text/plain": [
              "<Figure size 1440x720 with 1 Axes>"
            ]
          },
          "metadata": {
            "tags": [],
            "needs_background": "light"
          }
        }
      ]
    },
    {
      "cell_type": "code",
      "metadata": {
        "colab": {
          "base_uri": "https://localhost:8080/",
          "height": 592
        },
        "id": "RiSkCuOlqHEb",
        "outputId": "6552843d-9ba3-4cc3-f1b6-49ce40aaa36d"
      },
      "source": [
        "df3.plot.bar()"
      ],
      "execution_count": null,
      "outputs": [
        {
          "output_type": "execute_result",
          "data": {
            "text/plain": [
              "<matplotlib.axes._subplots.AxesSubplot at 0x7feeb5755d68>"
            ]
          },
          "metadata": {
            "tags": []
          },
          "execution_count": 17
        },
        {
          "output_type": "display_data",
          "data": {
            "image/png": "[encoded data removed]",
            "text/plain": [
              "<Figure size 1440x720 with 1 Axes>"
            ]
          },
          "metadata": {
            "tags": [],
            "needs_background": "light"
          }
        }
      ]
    },
    {
      "cell_type": "code",
      "metadata": {
        "colab": {
          "base_uri": "https://localhost:8080/",
          "height": 570
        },
        "id": "Rdx7tD7Bn1_f",
        "outputId": "f8c78914-15b6-43a3-dd4c-c8bbe2aa9241"
      },
      "source": [
        "df3 = pd.DataFrame(np.random.rand(2, 3), columns=['AMOUNT', 'ACCTID','FROMACCTID'])\n",
        "df3.plot.area();"
      ],
      "execution_count": null,
      "outputs": [
        {
          "output_type": "display_data",
          "data": {
            "image/png": "[encoded data removed]",
            "text/plain": [
              "<Figure size 1440x720 with 1 Axes>"
            ]
          },
          "metadata": {
            "tags": [],
            "needs_background": "light"
          }
        }
      ]
    },
    {
      "cell_type": "markdown",
      "metadata": {
        "id": "mY3JWLHOBWts"
      },
      "source": [
        "Load Graphistry"
      ]
    },
    {
      "cell_type": "code",
      "metadata": {
        "id": "x0iZ1WPNBV4W",
        "colab": {
          "base_uri": "https://localhost:8080/"
        },
        "outputId": "10e2dac5-d072-4158-b5dc-b6ffb1c74712"
      },
      "source": [
        "!pip install graphistry -q"
      ],
      "execution_count": null,
      "outputs": [
        {
          "output_type": "stream",
          "text": [
            "\u001b[K     |████████████████████████████████| 71kB 4.5MB/s \n",
            "\u001b[K     |████████████████████████████████| 17.7MB 239kB/s \n",
            "\u001b[?25h  Building wheel for graphistry (setup.py) ... \u001b[?25l\u001b[?25hdone\n"
          ],
          "name": "stdout"
        }
      ]
    },
    {
      "cell_type": "code",
      "metadata": {
        "deletable": true,
        "editable": true,
        "id": "I87P-bdKdiAQ",
        "colab": {
          "base_uri": "https://localhost:8080/"
        },
        "outputId": "b1656664-d517-464a-e7c8-ba71c5f8a102"
      },
      "source": [
        "import graphistry\n",
        "graphistry.register(key='apikey', server='hub.graphistry.com')\n",
        "#demo.graphistry.com')"
      ],
      "execution_count": null,
      "outputs": [
        {
          "output_type": "stream",
          "text": [
            "/usr/local/lib/python3.6/dist-packages/graphistry/util.py:73: RuntimeWarning: Could not contact hub.graphistry.com. Are you connected to the Internet?\n",
            "  warnings.warn(RuntimeWarning(msg))\n"
          ],
          "name": "stderr"
        }
      ]
    },
    {
      "cell_type": "code",
      "metadata": {
        "id": "iZErRcr3PMZv"
      },
      "source": [
        "g = graphistry.bind(source=\"ACCTID\", destination=\"ACCTTYPE\")"
      ],
      "execution_count": null,
      "outputs": []
    },
    {
      "cell_type": "code",
      "metadata": {
        "id": "38tBrKmJDEio"
      },
      "source": [
        "import pandas as pd"
      ],
      "execution_count": null,
      "outputs": []
    },
    {
      "cell_type": "code",
      "metadata": {
        "colab": {
          "base_uri": "https://localhost:8080/"
        },
        "id": "rL3J63YsC0R_",
        "outputId": "c65f6642-525e-4e0a-bf25-c829f10c2e97"
      },
      "source": [
        "graphistry.edges(pd.read_csv('/gdrive/MyDrive/Colab Notebooks/ftxn2.csv'))\n"
      ],
      "execution_count": null,
      "outputs": [
        {
          "output_type": "execute_result",
          "data": {
            "text/plain": [
              "{'bindings': {'destination': None,\n",
              "  'edge_color': None,\n",
              "  'edge_destination_color': None,\n",
              "  'edge_icon': None,\n",
              "  'edge_label': None,\n",
              "  'edge_opacity': None,\n",
              "  'edge_size': None,\n",
              "  'edge_source_color': None,\n",
              "  'edge_title': None,\n",
              "  'edge_weight': None,\n",
              "  'edges':                TXN_ID    TXTYPE  ...  ISFRAUD  ISFLAGGED\n",
              "  0        9.500000e+11  TRANSFER  ...        N          Y\n",
              "  1        9.500000e+11   PAYMENT  ...        N          Y\n",
              "  2        9.500000e+11   PAYMENT  ...        N          Y\n",
              "  3        9.500000e+11  TRANSFER  ...        N          Y\n",
              "  4        9.500000e+11   PAYMENT  ...        N          Y\n",
              "  ...               ...       ...  ...      ...        ...\n",
              "  1048570  9.150080e+12  TRANSFER  ...        Y          Y\n",
              "  1048571  9.150080e+12  TRANSFER  ...        Y          Y\n",
              "  1048572  9.150080e+12  TRANSFER  ...        Y          Y\n",
              "  1048573  9.150080e+12  TRANSFER  ...        Y          Y\n",
              "  1048574  9.150080e+12  TRANSFER  ...        Y          Y\n",
              "  \n",
              "  [1048575 rows x 9 columns],\n",
              "  'node': None,\n",
              "  'nodes': None,\n",
              "  'point_color': None,\n",
              "  'point_icon': None,\n",
              "  'point_label': None,\n",
              "  'point_opacity': None,\n",
              "  'point_size': None,\n",
              "  'point_title': None,\n",
              "  'point_weight': None,\n",
              "  'point_x': None,\n",
              "  'point_y': None,\n",
              "  'source': None},\n",
              " 'settings': {'height': 500, 'url_params': {'info': 'true'}}}"
            ]
          },
          "metadata": {
            "tags": []
          },
          "execution_count": 24
        }
      ]
    },
    {
      "cell_type": "code",
      "metadata": {
        "id": "raoAUDKeWRJd"
      },
      "source": [
        "#graphistry.nodes('ACCTID',)"
      ],
      "execution_count": null,
      "outputs": []
    },
    {
      "cell_type": "code",
      "metadata": {
        "colab": {
          "base_uri": "https://localhost:8080/",
          "height": 644
        },
        "id": "z0gYE5BjZc7x",
        "outputId": "53ced9af-d247-488e-f72d-c6a96326cb3f"
      },
      "source": [
        "#loading just the 30 suspicious account\n",
        "graphistry.hypergraph(df3)\n",
        "graphistry.hypergraph(df3)['graph'].plot()"
      ],
      "execution_count": null,
      "outputs": [
        {
          "output_type": "stream",
          "text": [
            "# links 6\n",
            "# events 2\n",
            "# attrib entities 6\n",
            "# links 6\n",
            "# events 2\n",
            "# attrib entities 6\n"
          ],
          "name": "stdout"
        },
        {
          "output_type": "execute_result",
          "data": {
            "text/html": [
              "\n",
              "            <iframe id=\"8dc5be06-7ce5-4688-9426-18a2760d71a9\" src=\"https://hub.graphistry.com/graph/graph.html?dataset=2a88af16273750f8bad9acb4ceb14161&type=vgraph&viztoken=5c81b55c791141ea8fe1a1bef92ccb44&usertag=1093e1eb-pygraphistry-0.14.1&splashAfter=1606005650&info=true\"\n",
              "                    allowfullscreen=\"true\" webkitallowfullscreen=\"true\" mozallowfullscreen=\"true\"\n",
              "                    oallowfullscreen=\"true\" msallowfullscreen=\"true\"\n",
              "                    style=\"width:100%; height:500px; border: 1px solid #DDD; overflow: hidden\">\n",
              "            </iframe>\n",
              "        \n",
              "            <script>\n",
              "                try {\n",
              "                  $(\"#8dc5be06-7ce5-4688-9426-18a2760d71a9\").bind('mousewheel', function(e) { e.preventDefault(); });\n",
              "                } catch (e) { console.error('exn catching scroll', e); }\n",
              "            </script>\n",
              "        "
            ],
            "text/plain": [
              "<IPython.core.display.HTML object>"
            ]
          },
          "metadata": {
            "tags": []
          },
          "execution_count": 25
        }
      ]
    },
    {
      "cell_type": "code",
      "metadata": {
        "colab": {
          "base_uri": "https://localhost:8080/"
        },
        "id": "T4ISCQaEwY2g",
        "outputId": "574b6d28-2545-4600-a3e5-449603fc3138"
      },
      "source": [
        "df4 = pd.read_csv('/gdrive/MyDrive/Colab Notebooks/ftxn2.csv')\n",
        "df4 = df4[df4['AMOUNT'] > 200000]\n",
        "print(df4)"
      ],
      "execution_count": null,
      "outputs": [
        {
          "output_type": "stream",
          "text": [
            "               TXN_ID    TXTYPE  AMOUNT  ...           REFERENCE  ISFRAUD ISFLAGGED\n",
            "708358   9.150080e+12  TRANSFER  200002  ...     Payment for Job        Y         Y\n",
            "708462   9.150080e+12  TRANSFER  200001  ...        Holiday Cost        Y         Y\n",
            "1048535  9.150080e+12  TRANSFER  200013  ...          Instalment        Y         Y\n",
            "1048536  9.150080e+12  TRANSFER  200005  ...          Instalment        Y         Y\n",
            "1048549  9.150080e+12  TRANSFER  200006  ...       Settling Deal        Y         Y\n",
            "1048550  9.150080e+12  TRANSFER  200012  ...       Settling Deal        Y         Y\n",
            "1048551  9.150080e+12  TRANSFER  200012  ...          Instalment        Y         Y\n",
            "1048552  9.150080e+12  TRANSFER  200005  ...     Payment for Job        Y         Y\n",
            "1048553  9.150080e+12  TRANSFER  200004  ...          Gift Costs        Y         Y\n",
            "1048554  9.150080e+12  TRANSFER  200017  ...        Holiday Cost        Y         Y\n",
            "1048555  9.150080e+12  TRANSFER  200008  ...      Paid for FixUp        Y         Y\n",
            "1048556  9.150080e+12  TRANSFER  200004  ...          Gift Costs        Y         Y\n",
            "1048557  9.150080e+12  TRANSFER  200008  ...     Payment for Job        Y         Y\n",
            "1048558  9.150080e+12  TRANSFER  200015  ...        Holiday Cost        Y         Y\n",
            "1048559  9.150080e+12  TRANSFER  200011  ...         Water Costs        Y         Y\n",
            "1048560  9.150080e+12  TRANSFER  200001  ...  Subscription Costs        Y         Y\n",
            "1048561  9.150080e+12  TRANSFER  200014  ...       Settling Deal        Y         Y\n",
            "1048562  9.150080e+12  TRANSFER  200011  ...      Paid for FixUp        Y         Y\n",
            "1048563  9.150080e+12  TRANSFER  200003  ...          Gift Costs        Y         Y\n",
            "1048564  9.150080e+12  TRANSFER  200015  ...         Water Costs        Y         Y\n",
            "1048565  9.150080e+12  TRANSFER  200004  ...  Subscription Costs        Y         Y\n",
            "1048566  9.150080e+12  TRANSFER  200006  ...          Gift Costs        Y         Y\n",
            "1048567  9.150080e+12  TRANSFER  200018  ...        Holiday Cost        Y         Y\n",
            "1048568  9.150080e+12  TRANSFER  200018  ...         Water Costs        Y         Y\n",
            "1048569  9.150080e+12  TRANSFER  200009  ...       Settling Deal        Y         Y\n",
            "1048570  9.150080e+12  TRANSFER  200020  ...  Subscription Costs        Y         Y\n",
            "1048571  9.150080e+12  TRANSFER  200003  ...        Holiday Cost        Y         Y\n",
            "1048572  9.150080e+12  TRANSFER  200019  ...        Holiday Cost        Y         Y\n",
            "1048573  9.150080e+12  TRANSFER  200012  ...        Holiday Cost        Y         Y\n",
            "1048574  9.150080e+12  TRANSFER  200018  ...        Holiday Cost        Y         Y\n",
            "\n",
            "[30 rows x 9 columns]\n"
          ],
          "name": "stdout"
        }
      ]
    },
    {
      "cell_type": "code",
      "metadata": {
        "colab": {
          "base_uri": "https://localhost:8080/",
          "height": 180
        },
        "id": "YRljmQeOzjDx",
        "outputId": "6eb5adbd-862c-4dd3-f6ef-6174dd066a98"
      },
      "source": [
        "graphistry.hypergraph(df4)\n",
        "graphistry.hypergraph(df4)['graph'].plot()"
      ],
      "execution_count": null,
      "outputs": [
        {
          "output_type": "error",
          "ename": "NameError",
          "evalue": "ignored",
          "traceback": [
            "\u001b[0;31m---------------------------------------------------------------------------\u001b[0m",
            "\u001b[0;31mNameError\u001b[0m                                 Traceback (most recent call last)",
            "\u001b[0;32m<ipython-input-1-2d85c3e8825c>\u001b[0m in \u001b[0;36m<module>\u001b[0;34m()\u001b[0m\n\u001b[0;32m----> 1\u001b[0;31m \u001b[0mgraphistry\u001b[0m\u001b[0;34m.\u001b[0m\u001b[0mhypergraph\u001b[0m\u001b[0;34m(\u001b[0m\u001b[0mdf4\u001b[0m\u001b[0;34m)\u001b[0m\u001b[0;34m\u001b[0m\u001b[0;34m\u001b[0m\u001b[0m\n\u001b[0m\u001b[1;32m      2\u001b[0m \u001b[0mgraphistry\u001b[0m\u001b[0;34m.\u001b[0m\u001b[0mhypergraph\u001b[0m\u001b[0;34m(\u001b[0m\u001b[0mdf4\u001b[0m\u001b[0;34m)\u001b[0m\u001b[0;34m[\u001b[0m\u001b[0;34m'graph'\u001b[0m\u001b[0;34m]\u001b[0m\u001b[0;34m.\u001b[0m\u001b[0mplot\u001b[0m\u001b[0;34m(\u001b[0m\u001b[0;34m)\u001b[0m\u001b[0;34m\u001b[0m\u001b[0;34m\u001b[0m\u001b[0m\n",
            "\u001b[0;31mNameError\u001b[0m: name 'graphistry' is not defined"
          ]
        }
      ]
    }
  ]
}